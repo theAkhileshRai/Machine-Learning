{
  "nbformat": 4,
  "nbformat_minor": 0,
  "metadata": {
    "colab": {
      "name": "Pandas Practice 01.ipynb",
      "provenance": [],
      "authorship_tag": "ABX9TyM8JDnsUm4HtvxXtGs2xhrB",
      "include_colab_link": true
    },
    "kernelspec": {
      "name": "python3",
      "display_name": "Python 3"
    }
  },
  "cells": [
    {
      "cell_type": "markdown",
      "metadata": {
        "id": "view-in-github",
        "colab_type": "text"
      },
      "source": [
        "<a href=\"https://colab.research.google.com/github/theAkhileshRai/Machine-Learning/blob/main/Pandas%20Practice/Pandas_Practice_01.ipynb\" target=\"_parent\"><img src=\"https://colab.research.google.com/assets/colab-badge.svg\" alt=\"Open In Colab\"/></a>"
      ]
    },
    {
      "cell_type": "markdown",
      "metadata": {
        "id": "-sDymd-AwE_M"
      },
      "source": [
        "# Pandas Practice exercise 40 interview questions as seen on \r\n",
        "https://www.javatpoint.com/python-pandas-interview-questions\r\n",
        "\r\n",
        "\r\n"
      ]
    },
    {
      "cell_type": "markdown",
      "metadata": {
        "id": "iU7ytMcJwT70"
      },
      "source": [
        "01. Define the Pandas/Python pandas?\r\n",
        "\r\n",
        "Pandas is defined as an open-source library that provides high-performance data manipulation in Python. The name of Pandas is derived from the word Panel Data, which means an Econometrics from Multidimensional data. It can be used for data analysis in Python and developed by Wes McKinney in 2008. It can perform five significant steps that are required for processing and analysis of data irrespective of the origin of the data, i.e., load, manipulate, prepare, model, and analyze.\r\n"
      ]
    },
    {
      "cell_type": "markdown",
      "metadata": {
        "id": "87Rio49QwkX9"
      },
      "source": [
        "2. Mention the different types of Data Structures in Pandas?\r\n",
        "\r\n",
        "Pandas provide two data structures, which are supported by the pandas library, Series, and DataFrames. Both of these data structures are built on top of the NumPy."
      ]
    },
    {
      "cell_type": "markdown",
      "metadata": {
        "id": "AyIKr9xAwudt"
      },
      "source": [
        "3. Define Series in Pandas?\r\n",
        "\r\n",
        "A Series is defined as a one-dimensional array that is capable of storing various data types. The row labels of series are called the index. By using a 'series' method, we can easily convert the list, tuple, and dictionary into series. A Series cannot contain multiple columns.\r\n",
        "\r\n"
      ]
    },
    {
      "cell_type": "markdown",
      "metadata": {
        "id": "OybKY12Uw1gV"
      },
      "source": [
        "4. How can we calculate the standard deviation from the Series?\r\n",
        "\r\n",
        "The Pandas std() is defined as a function for calculating the standard deviation of the given set of numbers, DataFrame, column, and rows.\r\n",
        "\r\n",
        "Series.std(axis=None, skipna=None, level=None, ddof=1, numeric_only=None, **kwargs)"
      ]
    },
    {
      "cell_type": "markdown",
      "metadata": {
        "id": "bUp5xFkgxhDk"
      },
      "source": [
        "5. Define DataFrame in Pandas?\r\n",
        "\r\n",
        "A DataFrame is a widely used data structure of pandas and works with a two-dimensional array with labeled axes (rows and columns) DataFrame is defined as a standard way to store data and has two different indexes, i.e., row index and column index. It consists of the following properties:\r\n",
        "\r\n",
        "The columns can be heterogeneous types like int and bool."
      ]
    },
    {
      "cell_type": "markdown",
      "metadata": {
        "id": "d7qcrgl2xnQt"
      },
      "source": [
        "6. What are the significant features of the pandas Library?\r\n",
        "\r\n",
        "The key features of the panda's library are as follows:\r\n",
        "\r\n",
        "Memory Efficient\r\n",
        "\r\n",
        "Data Alignment\r\n",
        "\r\n",
        "Reshaping\r\n",
        "\r\n",
        "Merge and join\r\n",
        "\r\n",
        "Time Series"
      ]
    },
    {
      "cell_type": "markdown",
      "metadata": {
        "id": "hcWOC0UXxw-E"
      },
      "source": [
        "7.  Explain Reindexing in pandas?\r\n",
        "\r\n",
        "Reindexing is used to conform DataFrame to a new index with optional filling logic. It places NA/NaN in that location where the values are not present in the previous index. It returns a new object unless the new index is produced as equivalent to the current one, and the value of copy becomes False. It is used to change the index of the rows and columns of the DataFrame."
      ]
    },
    {
      "cell_type": "markdown",
      "metadata": {
        "id": "NJTi-KBWx6g2"
      },
      "source": [
        "8. What is the name of Pandas library tools used to create a scatter plot matrix?\r\n",
        "\r\n",
        "Scatter_matrix"
      ]
    },
    {
      "cell_type": "markdown",
      "metadata": {
        "id": "bt6ptCWM2Gse"
      },
      "source": [
        "9. Define the different ways a DataFrame can be created in pandas?\r\n",
        "We can create a DataFrame using following ways:\r\n",
        "\r\n",
        "Lists\r\n",
        "Dict of ndarrays\r\n"
      ]
    },
    {
      "cell_type": "code",
      "metadata": {
        "colab": {
          "base_uri": "https://localhost:8080/"
        },
        "id": "wY9XuGpvw1Uq",
        "outputId": "2560718a-31f8-45c9-bd70-e91783601232"
      },
      "source": [
        "import pandas as pd    \r\n",
        "# a list of strings    \r\n",
        "a = ['Python', 'Pandas']    \r\n",
        "# Calling DataFrame constructor on list    \r\n",
        "info = pd.DataFrame(a)    \r\n",
        "print(info)    "
      ],
      "execution_count": null,
      "outputs": [
        {
          "output_type": "stream",
          "text": [
            "        0\n",
            "0  Python\n",
            "1  Pandas\n"
          ],
          "name": "stdout"
        }
      ]
    },
    {
      "cell_type": "code",
      "metadata": {
        "colab": {
          "base_uri": "https://localhost:8080/"
        },
        "id": "EmCgAf6WwSsm",
        "outputId": "318e098e-0573-41c6-e816-33c4983ae4a3"
      },
      "source": [
        "import pandas as pd    \r\n",
        "info = {'ID' :[101, 102, 103],'Department' :['B.Sc','B.Tech','M.Tech',]}    \r\n",
        "info = pd.DataFrame(info)    \r\n",
        "print (info)   "
      ],
      "execution_count": null,
      "outputs": [
        {
          "output_type": "stream",
          "text": [
            "    ID Department\n",
            "0  101       B.Sc\n",
            "1  102     B.Tech\n",
            "2  103     M.Tech\n"
          ],
          "name": "stdout"
        }
      ]
    },
    {
      "cell_type": "markdown",
      "metadata": {
        "id": "X9WC5PIJ3Liw"
      },
      "source": [
        "10. Explain Categorical data in Pandas?\r\n",
        "\r\n",
        "A Categorical data is defined as a Pandas data type that corresponds to a categorical variable in statistics. A categorical variable is generally used to take a limited and usually fixed number of possible values. Examples: gender, country affiliation, blood type, social class, observation time, or rating via Likert scales. All values of categorical data are either in categories or np.nan.\r\n",
        "\r\n",
        "This data type is useful in the following cases:\r\n",
        "\r\n",
        "It is useful for a string variable that consists of only a few different values. If we want to save some memory, we can convert a string variable to a categorical variable.\r\n",
        "It is useful for the lexical order of a variable that is not the same as the logical order (?one?, ?two?, ?three?) By converting into a categorical and specify an order on the categories, sorting and min/max is responsible for using the logical order instead of the lexical order.\r\n",
        "It is useful as a signal to other Python libraries because this column should be treated as a categorical variable."
      ]
    },
    {
      "cell_type": "code",
      "metadata": {
        "id": "QrCb6_K33OM-"
      },
      "source": [
        ""
      ],
      "execution_count": null,
      "outputs": []
    }
  ]
}